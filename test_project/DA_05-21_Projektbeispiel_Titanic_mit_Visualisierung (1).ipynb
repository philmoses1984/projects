{
 "cells": [
  {
   "cell_type": "markdown",
   "id": "ca20fa71",
   "metadata": {},
   "source": [
    "# Wiederholung Titanic Visualisierung"
   ]
  },
  {
   "cell_type": "code",
   "execution_count": null,
   "id": "0407ee1a",
   "metadata": {},
   "outputs": [],
   "source": [
    "import warnings\n",
    "\n",
    "# Ignorieren aller Warnungen\n",
    "warnings.filterwarnings('ignore')"
   ]
  },
  {
   "cell_type": "markdown",
   "id": "ceec7763",
   "metadata": {},
   "source": [
    "### Aufgabe: Lade den Datensatz Titanic mit der Seaborn-Bibliothek"
   ]
  },
  {
   "cell_type": "code",
   "execution_count": null,
   "id": "76410d41",
   "metadata": {},
   "outputs": [],
   "source": [
    "import matplotlib.pyplot as plt\n",
    "import seaborn as sns\n",
    "\n",
    "# Laden des Titanic-Datensatzes\n",
    "df_titanic = sns.load_dataset('titanic')\n",
    "\n",
    "display(df_titanic)"
   ]
  },
  {
   "cell_type": "code",
   "execution_count": null,
   "id": "ed0b3949",
   "metadata": {},
   "outputs": [],
   "source": []
  },
  {
   "cell_type": "markdown",
   "id": "d88ac5a7",
   "metadata": {},
   "source": [
    "**Eine stichpunktartige Erläuterung jeder Spalte im Titanic-Datensatz:**\n",
    "\n",
    "- survived: Gibt an, ob der Passagier überlebt hat (1) oder nicht (0).\n",
    "- pclass: Die Ticketklasse als Proxy für den sozioökonomischen Status (1 = Erste Klasse, 2 = Zweite Klasse, 3 = Dritte Klasse).\n",
    "- sex: Geschlecht des Passagiers (männlich, weiblich).\n",
    "- age: Alter des Passagiers in Jahren.\n",
    "- sibsp: Anzahl der Geschwister oder Ehepartner des Passagiers an Bord.\n",
    "- parch: Anzahl der Eltern oder Kinder des Passagiers an Bord.\n",
    "- fare: Tarif, den der Passagier bezahlt hat.\n",
    "- embarked: Abkürzung des Hafens, an dem der Passagier an Bord gegangen ist (C = Cherbourg, Q = Queenstown, S = Southampton).\n",
    "- class: Eine Kategorie, die die Ticketklasse darstellt (Erste, Zweite, Dritte).\n",
    "- who: Kategorisiert den Passagier als Mann, Frau oder Kind.\n",
    "- adult_male: Boolescher Wert, der angibt, ob der Passagier ein erwachsener Mann ist.\n",
    "- deck: Das Schiffsdeck, auf dem sich die Kabine des Passagiers befand (kann fehlende Werte enthalten).\n",
    "- embark_town: Der Name des Hafens, an dem der Passagier an Bord gegangen ist.\n",
    "- alive: Gibt an, ob der Passagier überlebt hat (‘yes’) oder nicht (‘no’), ähnlich wie 'survived', aber in Textform.\n",
    "- alone: Boolescher Wert, der angibt, ob der Passagier alleine gereist ist (keine Geschwister, Ehepartner, Eltern oder Kinder an Bord)."
   ]
  },
  {
   "cell_type": "markdown",
   "id": "10a965fb",
   "metadata": {},
   "source": [
    "### Aufgabe: Überblick Daten, Data Cleaning & Prep \n",
    "\n",
    "- Gibt es fehlende Werte?\n",
    "- Gibt es Dupplikate?\n",
    "- Gibt es extreme Ausreißer?\n",
    "- Hat jede Spalte den zu erwartenden Datentyp?"
   ]
  },
  {
   "cell_type": "code",
   "execution_count": null,
   "id": "beef2bf7",
   "metadata": {},
   "outputs": [],
   "source": [
    "df_titanic.info()"
   ]
  },
  {
   "cell_type": "code",
   "execution_count": null,
   "id": "ed88ef91",
   "metadata": {},
   "outputs": [],
   "source": [
    "df_titanic.describe().T.round(2)"
   ]
  },
  {
   "cell_type": "code",
   "execution_count": null,
   "id": "9d485cc0",
   "metadata": {},
   "outputs": [],
   "source": [
    "import seaborn as sns\n",
    "import pandas as pd\n",
    "\n",
    "# Laden des Titanic-Datensatzes\n",
    "titanic = sns.load_dataset('titanic')\n",
    "\n",
    "\n",
    "print()\n",
    "# 1. Fehlende Werte behandeln\n",
    "# Anzeigen der Anzahl fehlender Werte in jeder Spalte\n",
    "print(\"Fehlende Werte pro Spalte:\\n\", titanic.isnull().sum())\n",
    "print()\n",
    "print('------------------------------------------------------------')\n",
    "print()\n",
    "\n",
    "# Beispiel: Fehlende Werte in der 'age' Spalte durch den Median ersetzen\n",
    "titanic['age'].fillna(titanic['age'].median(), inplace=True)\n",
    "\n",
    "# 2. Duplikate überprüfen\n",
    "# Anzeigen, ob es Duplikate gibt\n",
    "print(\"Anzahl der Duplikate:\", titanic.duplicated().sum())\n",
    "print()\n",
    "print('------------------------------------------------------------')\n",
    "print()\n",
    "\n",
    "\n",
    "# 3. Prüfen der Datentypen pro Spalte\n",
    "print(\"Datentypen pro Spalte:\\n\", titanic.dtypes)\n",
    "print()"
   ]
  },
  {
   "cell_type": "code",
   "execution_count": null,
   "id": "eb867046",
   "metadata": {},
   "outputs": [],
   "source": [
    "# 1. Fehlende Werte behandeln\n",
    "# Anzeigen der Anzahl fehlender Werte in jeder Spalte\n",
    "print(\"Fehlende Werte pro Spalte:\\n\", titanic.isnull().sum())"
   ]
  },
  {
   "cell_type": "markdown",
   "id": "d048b490",
   "metadata": {},
   "source": [
    "Da die deck-Spalte nicht zentral für die Analyse ist, können wir einfach weiterarbeiten und diese Spalte bei der Analyse außer Acht lassen."
   ]
  },
  {
   "cell_type": "markdown",
   "id": "29f6d445",
   "metadata": {},
   "source": [
    "##### Es scheint viele Duplikate zu geben. Lasst uns einmal genauer darauf schauen: "
   ]
  },
  {
   "cell_type": "code",
   "execution_count": null,
   "id": "b5e24a1c",
   "metadata": {},
   "outputs": [],
   "source": [
    "# Finden der Duplikate\n",
    "duplicates = titanic[titanic.duplicated()]\n",
    "\n",
    "# Anzeigen der Duplikate\n",
    "display(duplicates)"
   ]
  },
  {
   "cell_type": "markdown",
   "id": "05f969f0",
   "metadata": {},
   "source": [
    "1. Erselle einen DataFrame aus den Duplikaten. "
   ]
  },
  {
   "cell_type": "markdown",
   "id": "43c0eff5",
   "metadata": {},
   "source": [
    "2. Erstelle ein Scatter-Plot für Fahrpreis und Alter"
   ]
  },
  {
   "cell_type": "code",
   "execution_count": null,
   "id": "4b8883b5",
   "metadata": {},
   "outputs": [],
   "source": [
    "import matplotlib.pyplot as plt\n",
    "import seaborn as sns\n",
    "\n",
    "titanic = sns.load_dataset('titanic')\n",
    "duplicates = titanic[titanic.duplicated()]\n",
    "\n",
    "plt.scatter(titanic['age'], titanic['fare'], alpha=0.5, label='Alle Daten')\n",
    "plt.scatter(duplicates['age'], duplicates['fare'], color='red', label='Duplikate')\n",
    "plt.title('Scatter-Plot von Alter und Fahrpreis')\n",
    "plt.xlabel('Alter')\n",
    "plt.ylabel('Fahrpreis')\n",
    "plt.legend()\n",
    "plt.show()"
   ]
  },
  {
   "cell_type": "markdown",
   "id": "b1300fa6",
   "metadata": {},
   "source": [
    "2. Erstelle Säulendiagramme mit dem Datensatz der Duplikate, um die Aufteilung der Anzahl der Passagiere a ) nach Klasse b) nach Geschlecht und c) nach Überlebt/ nicht überlebt anzuzeigen. Dabei sollten die Duplikate von den Nicht-Duplikaten klar trennbar erkennbar sein."
   ]
  },
  {
   "cell_type": "code",
   "execution_count": null,
   "id": "1f8168c6",
   "metadata": {},
   "outputs": [],
   "source": [
    "df_titanic['sex'].value_counts()"
   ]
  },
  {
   "cell_type": "code",
   "execution_count": null,
   "id": "63dc9e6c",
   "metadata": {},
   "outputs": [],
   "source": [
    "for column in ['class', 'sex', 'survived']:\n",
    "    plt.figure(figsize=(8, 4))\n",
    "    \n",
    "    # Zählen der Einträge für jede Kategorie in der Hauptdatenmenge und in den Duplikaten\n",
    "    titanic_counts = titanic[column].value_counts().sort_index()\n",
    "    duplicates_counts = duplicates[column].value_counts().sort_index()\n",
    "    \n",
    "    # Erstellen der Balken für die Hauptdatenmenge\n",
    "    plt.bar(titanic_counts.index, titanic_counts.values, width=0.4, align='center', color='blue', alpha=0.6, label='Alle Daten')\n",
    "    \n",
    "    # Erstellen der Balken für die Duplikate, verschoben um die Breite der Balken\n",
    "    plt.bar(duplicates_counts.index, duplicates_counts.values, width=0.4, align='edge', color='red', alpha=0.6, label='Duplikate')\n",
    "    \n",
    "    plt.title(f'Verteilung von {column.capitalize()}')\n",
    "    plt.legend()\n",
    "    plt.show()"
   ]
  },
  {
   "cell_type": "code",
   "execution_count": null,
   "id": "969c1183",
   "metadata": {},
   "outputs": [],
   "source": [
    "import seaborn as sns\n",
    "\n",
    "for column in ['class', 'sex', 'survived']:\n",
    "    plt.figure(figsize=(8, 4))\n",
    "    \n",
    "    # Definieren der Reihenfolge für die Kategorien\n",
    "    order = sorted(titanic[column].unique())\n",
    "    \n",
    "    sns.countplot(x=column, data=titanic, palette='Set2', order=order, label='Alle Daten')\n",
    "    sns.countplot(x=column, data=duplicates, color='red', order=order, label='Duplikate')\n",
    "    \n",
    "    plt.title(f'Verteilung von {column.capitalize()}')\n",
    "    plt.legend()\n",
    "    plt.show()\n"
   ]
  },
  {
   "cell_type": "markdown",
   "id": "fae69d5a",
   "metadata": {},
   "source": [
    "3. Erstelle Säulendiagramme mit dem Datensatz der Duplikate, die den Anteil an Duplikaten nach Eintiegort zeigen."
   ]
  },
  {
   "cell_type": "code",
   "execution_count": null,
   "id": "665bc9ab",
   "metadata": {},
   "outputs": [],
   "source": [
    "df_titanic['embark_town'].value_counts()"
   ]
  },
  {
   "cell_type": "code",
   "execution_count": null,
   "id": "4116b07c",
   "metadata": {},
   "outputs": [],
   "source": [
    "import matplotlib.pyplot as plt\n",
    "import seaborn as sns\n",
    "\n",
    "# Laden des Titanic-Datensatzes\n",
    "titanic = sns.load_dataset('titanic')\n",
    "duplicates = titanic[titanic.duplicated()]\n",
    "\n",
    "# Erstellen eines Diagramms zur Untersuchung des Zusammenhangs von Duplikaten und Einsteigort\n",
    "plt.figure(figsize=(8, 4))\n",
    "sns.countplot(x='embark_town', data=titanic, palette='Set2', label='Alle Daten')\n",
    "sns.countplot(x='embark_town', data=duplicates, color='red', label='Duplikate')\n",
    "plt.title('Verteilung des Einstiegorts (Embark Town) für Duplikate und Gesamtdaten')\n",
    "plt.legend()\n",
    "plt.show()"
   ]
  },
  {
   "cell_type": "markdown",
   "id": "0f986949",
   "metadata": {},
   "source": [
    "Unsere Auswertungen zeigen, dass der Großteil der Duplikate durch Passagiereinträge aus Southampton kommen und es sich im Wesentlichen dabei um Männer zwischen 18 und 30 Jahren aus der dritten Klasse handelt, die größtenteils nicht überlebt haben. Wir können ohne weitere Recherchen an dieser Stelle nur Mutmaßungen anstellen. \n",
    "\n",
    "Das Wissen um die Tatsache, dass das Schiff vollkommen ausverkauft war, legt nahe, das die Duplikate keine tatsächlich \"nicht vorhandenen\" Passagiere waren. Man kann aber durchaus vermuten, dass, aufgrund der großen Anzahl an Duplikaten in Southampton , z.B. aus Gründen wie \"Faulheit\", für unterschiedliche Passagiere einfach die gleichen Einträge vorgenommen wurden. Eine weitere Möglichkeit wäre auch, dass zufällig viele unterschiedliche Passagiere mit gleichen Angaben geboarded haben. \n",
    "\n",
    "Um eine klarere Aussage treffen zu können, benötigen wir mehr informationen wie bspw. die Namen. Da es unwahrscheinlich ist, dass es sich um komplett erfundene Passagiere handelt, die es in Wirklichkeit nicht gab, behalten wir die Duplikate in unserem Datensatz. "
   ]
  },
  {
   "cell_type": "markdown",
   "id": "2c1b6377",
   "metadata": {},
   "source": [
    "#### Lasst uns einen Blick auf Ausreißer werfen"
   ]
  },
  {
   "cell_type": "code",
   "execution_count": null,
   "id": "05d1a76c",
   "metadata": {},
   "outputs": [],
   "source": [
    "import pandas as pd\n",
    "import seaborn as sns\n",
    "\n",
    "# Laden des Titanic-Datensatzes\n",
    "titanic = sns.load_dataset('titanic')\n",
    "\n",
    "def count_outliers(column):\n",
    "    Q1 = column.quantile(0.25)\n",
    "    Q3 = column.quantile(0.75)\n",
    "    IQR = Q3 - Q1\n",
    "    outliers = ((column < (Q1 - 1.5 * IQR)) | (column > (Q3 + 1.5 * IQR))).sum()\n",
    "    return outliers\n",
    "\n",
    "# Anwenden der Funktion auf jede numerische Spalte im DataFrame\n",
    "outlier_counts = titanic.select_dtypes(include=['float64', 'int64']).apply(count_outliers)\n",
    "print(outlier_counts)"
   ]
  },
  {
   "cell_type": "markdown",
   "id": "9d5bacf9",
   "metadata": {},
   "source": [
    "Haben die Ausreißer einen Einfluss auf unsere Analysen? In unserem Fall sind sie für unsere Analysen unwichtig oder haben in ihrer Anzahl keinen signifikanten Einfluss auf die Ergebnisse unserer Analysen. "
   ]
  },
  {
   "cell_type": "markdown",
   "id": "bed06d0c",
   "metadata": {},
   "source": [
    "### Aufgabe 1: Erstellen Sie ein Balkendiagramm, das die Anzahl der Überlebenden und Nicht-Überlebenden zeigt"
   ]
  },
  {
   "cell_type": "code",
   "execution_count": null,
   "id": "3b35e661",
   "metadata": {},
   "outputs": [],
   "source": [
    "# Aufgabe 1: Erstellen des Balkendiagramms\n",
    "survival_counts = titanic['survived'].value_counts()\n",
    "plt.bar(survival_counts.index, survival_counts.values)\n",
    "plt.title('Anzahl der Überlebenden und Nicht-Überlebenden')\n",
    "plt.xlabel('Überlebt (1 = Ja, 0 = Nein)')\n",
    "plt.ylabel('Anzahl der Passagiere')\n",
    "plt.xticks([0, 1])  # Setzt die x-Achsen-Ticks auf 0 und 1\n",
    "plt.show()"
   ]
  },
  {
   "cell_type": "markdown",
   "id": "a8faa892",
   "metadata": {},
   "source": [
    "### Aufgabe 2: Erstellen Sie ein Kreisdiagramm, das die Anzahl der Überlebenden und Nicht-Überlebenden (in%) zeigt"
   ]
  },
  {
   "cell_type": "code",
   "execution_count": null,
   "id": "e079f0dc",
   "metadata": {},
   "outputs": [],
   "source": [
    "# Aufgabe 2: Erstellen des Kreisdiagramms\n",
    "survival_counts = titanic['survived'].value_counts()\n",
    "plt.pie(survival_counts, labels=['Nicht überlebt', 'Überlebt'], autopct='%1.1f%%', startangle=90)\n",
    "plt.title('Anzahl der Überlebenden und Nicht-Überlebenden')\n",
    "plt.show()"
   ]
  },
  {
   "cell_type": "markdown",
   "id": "bf79dc5a",
   "metadata": {},
   "source": [
    "### Aufgabe 3: Erstellen Sie ein Histogramm der Altersverteilung der Passagiere'"
   ]
  },
  {
   "cell_type": "code",
   "execution_count": null,
   "id": "5fc396a5",
   "metadata": {},
   "outputs": [],
   "source": [
    "# Aufgabe 2: Erstellen des Histogramms der Altersverteilung\n",
    "plt.hist(titanic['age'].dropna(), bins=20, edgecolor='black')\n",
    "plt.title('Altersverteilung der Passagiere')\n",
    "plt.xlabel('Alter')\n",
    "plt.ylabel('Anzahl der Passagiere')\n",
    "plt.show()"
   ]
  },
  {
   "cell_type": "markdown",
   "id": "4c4de712",
   "metadata": {},
   "source": [
    "### Aufgabe 4: Erstellen Sie ein Kreisdiagramm, das den Anteil der Passagierklassen zeigt"
   ]
  },
  {
   "cell_type": "code",
   "execution_count": null,
   "id": "adcab523",
   "metadata": {},
   "outputs": [],
   "source": [
    "# Aufgabe 3: Erstellen des Kreisdiagramms für Passagierklassen\n",
    "class_counts = titanic['class'].value_counts()\n",
    "plt.pie(class_counts, labels=class_counts.index, autopct='%1.1f%%')\n",
    "plt.title('Anteil der Passagierklassen')\n",
    "plt.show()"
   ]
  },
  {
   "cell_type": "markdown",
   "id": "4081c435",
   "metadata": {},
   "source": [
    "### Aufgabe 5: Erstellen Sie ein Balkendiagramm zur Darstellung des durchschnittlichen Alters nach Geschlecht"
   ]
  },
  {
   "cell_type": "code",
   "execution_count": null,
   "id": "f8cb6a47",
   "metadata": {},
   "outputs": [],
   "source": [
    "import matplotlib.pyplot as plt\n",
    "import seaborn as sns\n",
    "\n",
    "# Laden des Titanic-Datensatzes\n",
    "titanic = sns.load_dataset('titanic')\n",
    "\n",
    "# Berechnen des durchschnittlichen Alters nach Geschlecht\n",
    "average_age_by_sex = titanic.groupby('sex')['age'].mean()\n",
    "\n",
    "# Aufgabe 4: Erstellen des Balkendiagramms\n",
    "average_age_by_sex.plot(kind='bar')\n",
    "plt.title('Durchschnittliches Alter nach Geschlecht')\n",
    "plt.xlabel('Geschlecht')\n",
    "plt.ylabel('Durchschnittsalter')\n",
    "plt.show()"
   ]
  },
  {
   "cell_type": "markdown",
   "id": "a4d379af",
   "metadata": {},
   "source": [
    "### Aufgabe 6: Erstellen Sie ein gestapeltes Balkendiagramm zur Darstellung der Anzahl von Überlebenden und Nicht-Überlebenden in jeder Passagierklasse"
   ]
  },
  {
   "cell_type": "code",
   "execution_count": null,
   "id": "dabd328d",
   "metadata": {},
   "outputs": [],
   "source": []
  },
  {
   "cell_type": "markdown",
   "id": "ea772cc5",
   "metadata": {},
   "source": [
    "### Aufgabe 7: Erstelle das Balkendiagramm aus Aufgabe 6 und verwende dafür die Farben rot (nicht überlebt) und grün(überlebt) "
   ]
  },
  {
   "cell_type": "code",
   "execution_count": null,
   "id": "a73e0670",
   "metadata": {},
   "outputs": [],
   "source": []
  },
  {
   "cell_type": "markdown",
   "id": "18338e2f",
   "metadata": {},
   "source": [
    "### Aufgabe 8: Erläutere, ob und wenn ja, warum du die Diagramme aus Aufgabe 6 und Aufgabe 7 unterschiedlich wahrnimmst. "
   ]
  },
  {
   "cell_type": "code",
   "execution_count": null,
   "id": "6958b658",
   "metadata": {},
   "outputs": [],
   "source": []
  },
  {
   "cell_type": "code",
   "execution_count": null,
   "id": "1fddd02b",
   "metadata": {},
   "outputs": [],
   "source": []
  }
 ],
 "metadata": {
  "kernelspec": {
   "display_name": "Python 3 (ipykernel)",
   "language": "python",
   "name": "python3"
  },
  "language_info": {
   "codemirror_mode": {
    "name": "ipython",
    "version": 3
   },
   "file_extension": ".py",
   "mimetype": "text/x-python",
   "name": "python",
   "nbconvert_exporter": "python",
   "pygments_lexer": "ipython3",
   "version": "3.11.7"
  }
 },
 "nbformat": 4,
 "nbformat_minor": 5
}
